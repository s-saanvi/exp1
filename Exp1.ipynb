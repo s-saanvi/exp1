import pandas as pd, matplotlib.pyplot as plt, seaborn as sns
from sklearn.datasets import fetch_california_housing

df = pd.DataFrame(*fetch_california_housing(return_X_y=True), columns=fetch_california_housing().feature_names)
df['MedHouseVal'] = fetch_california_housing().target

df.hist(bins=30, figsize=(12,10), color='skyblue', edgecolor='k')
plt.suptitle('Feature Histograms'), plt.tight_layout(), plt.show()

plt.figure(figsize=(12,10))
for i, c in enumerate(df.columns, 1):
    plt.subplot(4, 3, i)
    sns.boxplot(y=df[c], color='lightcoral')
    plt.title(c)
plt.tight_layout(), plt.show()

print("\nOutliers (IQR):")
for c in df.columns:
    Q1, Q3 = df[c].quantile([0.25, 0.75])
    out = df[(df[c] < Q1 - 1.5*(Q3-Q1)) | (df[c] > Q3 + 1.5*(Q3-Q1))]
    print(f"{c}: {len(out)} (Bounds: {Q1 - 1.5*(Q3-Q1):.2f}, {Q3 + 1.5*(Q3-Q1):.2f})")
